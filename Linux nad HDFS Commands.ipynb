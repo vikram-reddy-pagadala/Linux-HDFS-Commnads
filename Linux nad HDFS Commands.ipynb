{
 "cells": [
  {
   "cell_type": "markdown",
   "id": "c0725a0f",
   "metadata": {
    "slideshow": {
     "slide_type": "notes"
    }
   },
   "source": [
    "# Linux Commnads"
   ]
  },
  {
   "cell_type": "code",
   "execution_count": null,
   "id": "c9101033",
   "metadata": {},
   "outputs": [],
   "source": [
    "Date and Calendar Commands:\n",
    "=========================\n",
    "date(gives today's date)\n",
    "cal (gives calendar of current month)\n",
    "cal -y (gives calendar for year 2018)\n",
    "cal 2018 (will give calendar for year 2018)\n",
    "cal 2 2018 if you want to view the calendar of February 2018\n",
    "clear or ctrl + l to clear the screen\n",
    "exit"
   ]
  }
 ],
 "metadata": {
  "kernelspec": {
   "display_name": "Python 3 (ipykernel)",
   "language": "python",
   "name": "python3"
  },
  "language_info": {
   "codemirror_mode": {
    "name": "ipython",
    "version": 3
   },
   "file_extension": ".py",
   "mimetype": "text/x-python",
   "name": "python",
   "nbconvert_exporter": "python",
   "pygments_lexer": "ipython3",
   "version": "3.9.13"
  }
 },
 "nbformat": 4,
 "nbformat_minor": 5
}
